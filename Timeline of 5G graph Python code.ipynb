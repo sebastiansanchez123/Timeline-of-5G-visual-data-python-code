{
 "cells": [
  {
   "cell_type": "code",
   "execution_count": 3,
   "metadata": {},
   "outputs": [],
   "source": [
    "import pandas as pd"
   ]
  },
  {
   "cell_type": "code",
   "execution_count": 4,
   "metadata": {},
   "outputs": [],
   "source": [
    "from matplotlib import pyplot as plt"
   ]
  },
  {
   "cell_type": "code",
   "execution_count": 5,
   "metadata": {},
   "outputs": [],
   "source": [
    "wireless = pd.read_csv('wireless.csv')"
   ]
  },
  {
   "cell_type": "code",
   "execution_count": 11,
   "metadata": {},
   "outputs": [
    {
     "data": {
      "text/html": [
       "<div>\n",
       "<style scoped>\n",
       "    .dataframe tbody tr th:only-of-type {\n",
       "        vertical-align: middle;\n",
       "    }\n",
       "\n",
       "    .dataframe tbody tr th {\n",
       "        vertical-align: top;\n",
       "    }\n",
       "\n",
       "    .dataframe thead th {\n",
       "        text-align: right;\n",
       "    }\n",
       "</style>\n",
       "<table border=\"1\" class=\"dataframe\">\n",
       "  <thead>\n",
       "    <tr style=\"text-align: right;\">\n",
       "      <th></th>\n",
       "      <th>Segment</th>\n",
       "      <th>Year</th>\n",
       "      <th>Millions_of_dollars</th>\n",
       "    </tr>\n",
       "  </thead>\n",
       "  <tbody>\n",
       "    <tr>\n",
       "      <td>0</td>\n",
       "      <td>5G</td>\n",
       "      <td>2018</td>\n",
       "      <td>612.9</td>\n",
       "    </tr>\n",
       "    <tr>\n",
       "      <td>1</td>\n",
       "      <td>5G</td>\n",
       "      <td>2019</td>\n",
       "      <td>2211.4</td>\n",
       "    </tr>\n",
       "    <tr>\n",
       "      <td>2</td>\n",
       "      <td>5G</td>\n",
       "      <td>2020</td>\n",
       "      <td>4176.0</td>\n",
       "    </tr>\n",
       "    <tr>\n",
       "      <td>3</td>\n",
       "      <td>5G</td>\n",
       "      <td>2021</td>\n",
       "      <td>6805.6</td>\n",
       "    </tr>\n",
       "    <tr>\n",
       "      <td>4</td>\n",
       "      <td>2G</td>\n",
       "      <td>2018</td>\n",
       "      <td>1503.1</td>\n",
       "    </tr>\n",
       "    <tr>\n",
       "      <td>5</td>\n",
       "      <td>2G</td>\n",
       "      <td>2019</td>\n",
       "      <td>697.5</td>\n",
       "    </tr>\n",
       "    <tr>\n",
       "      <td>6</td>\n",
       "      <td>2G</td>\n",
       "      <td>2020</td>\n",
       "      <td>406.5</td>\n",
       "    </tr>\n",
       "    <tr>\n",
       "      <td>7</td>\n",
       "      <td>2G</td>\n",
       "      <td>2021</td>\n",
       "      <td>285.2</td>\n",
       "    </tr>\n",
       "    <tr>\n",
       "      <td>8</td>\n",
       "      <td>3G</td>\n",
       "      <td>2018</td>\n",
       "      <td>5578.4</td>\n",
       "    </tr>\n",
       "    <tr>\n",
       "      <td>9</td>\n",
       "      <td>3G</td>\n",
       "      <td>2019</td>\n",
       "      <td>3694.0</td>\n",
       "    </tr>\n",
       "    <tr>\n",
       "      <td>10</td>\n",
       "      <td>3G</td>\n",
       "      <td>2020</td>\n",
       "      <td>2464.3</td>\n",
       "    </tr>\n",
       "    <tr>\n",
       "      <td>11</td>\n",
       "      <td>3G</td>\n",
       "      <td>2021</td>\n",
       "      <td>1558.0</td>\n",
       "    </tr>\n",
       "    <tr>\n",
       "      <td>12</td>\n",
       "      <td>LTE and 4G</td>\n",
       "      <td>2018</td>\n",
       "      <td>20454.7</td>\n",
       "    </tr>\n",
       "    <tr>\n",
       "      <td>13</td>\n",
       "      <td>LTE and 4G</td>\n",
       "      <td>2019</td>\n",
       "      <td>19322.4</td>\n",
       "    </tr>\n",
       "    <tr>\n",
       "      <td>14</td>\n",
       "      <td>LTE and 4G</td>\n",
       "      <td>2020</td>\n",
       "      <td>18278.2</td>\n",
       "    </tr>\n",
       "    <tr>\n",
       "      <td>15</td>\n",
       "      <td>LTE and 4G</td>\n",
       "      <td>2021</td>\n",
       "      <td>16352.7</td>\n",
       "    </tr>\n",
       "  </tbody>\n",
       "</table>\n",
       "</div>"
      ],
      "text/plain": [
       "       Segment  Year  Millions_of_dollars\n",
       "0           5G  2018                612.9\n",
       "1           5G  2019               2211.4\n",
       "2           5G  2020               4176.0\n",
       "3           5G  2021               6805.6\n",
       "4           2G  2018               1503.1\n",
       "5           2G  2019                697.5\n",
       "6           2G  2020                406.5\n",
       "7           2G  2021                285.2\n",
       "8           3G  2018               5578.4\n",
       "9           3G  2019               3694.0\n",
       "10          3G  2020               2464.3\n",
       "11          3G  2021               1558.0\n",
       "12  LTE and 4G  2018              20454.7\n",
       "13  LTE and 4G  2019              19322.4\n",
       "14  LTE and 4G  2020              18278.2\n",
       "15  LTE and 4G  2021              16352.7"
      ]
     },
     "execution_count": 11,
     "metadata": {},
     "output_type": "execute_result"
    }
   ],
   "source": [
    "wireless"
   ]
  },
  {
   "cell_type": "code",
   "execution_count": 6,
   "metadata": {},
   "outputs": [],
   "source": [
    "fiveG = wireless[wireless.Segment == \"5G\"]"
   ]
  },
  {
   "cell_type": "code",
   "execution_count": 7,
   "metadata": {},
   "outputs": [],
   "source": [
    "threeG = wireless[wireless.Segment == \"3G\"]"
   ]
  },
  {
   "cell_type": "code",
   "execution_count": 8,
   "metadata": {},
   "outputs": [],
   "source": [
    "twoG = wireless[wireless.Segment == \"2G\"]"
   ]
  },
  {
   "cell_type": "code",
   "execution_count": 9,
   "metadata": {},
   "outputs": [],
   "source": [
    "LTEand4G = wireless[wireless.Segment == \"LTE and 4G\"]"
   ]
  },
  {
   "cell_type": "code",
   "execution_count": 10,
   "metadata": {},
   "outputs": [
    {
     "data": {
      "image/png": "[encoded data removed]",
      "text/plain": [
       "<Figure size 864x648 with 1 Axes>"
      ]
     },
     "metadata": {
      "needs_background": "light"
     },
     "output_type": "display_data"
    }
   ],
   "source": [
    "plt.figure(figsize=(12,9))\n",
    "plt.plot(fiveG.Year, fiveG.Millions_of_dollars)\n",
    "plt.plot(threeG.Year, threeG.Millions_of_dollars)\n",
    "plt.plot(twoG.Year, twoG.Millions_of_dollars)\n",
    "plt.plot(LTEand4G.Year, LTEand4G.Millions_of_dollars)\n",
    "plt.title(\"Wireless Infrastructure Revenue Forecast, Worldwide, 2018-2021 (Millions of Dollars)\")\n",
    "plt.legend(['5G', '3G', '2G', 'LTE and 4G'])\n",
    "plt.xlabel('Year')\n",
    "plt.ylabel('Millions of dollars')\n",
    "plt.show()"
   ]
  },
  {
   "cell_type": "code",
   "execution_count": null,
   "metadata": {},
   "outputs": [],
   "source": []
  }
 ],
 "metadata": {
  "kernelspec": {
   "display_name": "Python 3",
   "language": "python",
   "name": "python3"
  },
  "language_info": {
   "codemirror_mode": {
    "name": "ipython",
    "version": 3
   },
   "file_extension": ".py",
   "mimetype": "text/x-python",
   "name": "python",
   "nbconvert_exporter": "python",
   "pygments_lexer": "ipython3",
   "version": "3.7.4"
  }
 },
 "nbformat": 4,
 "nbformat_minor": 2
}
